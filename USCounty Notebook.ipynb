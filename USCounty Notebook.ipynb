{
 "cells": [
  {
   "cell_type": "code",
   "execution_count": 1,
   "metadata": {},
   "outputs": [],
   "source": [
    "import numpy as np\n",
    "import pandas as pd\n",
    "\n",
    "import data_context_map.pattern_miner as pm"
   ]
  },
  {
   "cell_type": "markdown",
   "metadata": {},
   "source": [
    "### Get the county level data"
   ]
  },
  {
   "cell_type": "code",
   "execution_count": 2,
   "metadata": {},
   "outputs": [],
   "source": [
    "df_health_rank = pd.read_csv('data/covid_uncover/county_health_rankings/county_health_rankings/us-county-health-rankings-2020.csv')\n",
    "df_pm = pd.read_csv('data/pm_covid/PM_COVID/Data/county_pm25.csv')\n",
    "df_esri = pd.read_csv('data/covid_uncover/esri_covid-19/esri_covid-19/cdcs-social-vulnerability-index-svi-2016-overall-svi-county-level.csv')"
   ]
  },
  {
   "cell_type": "markdown",
   "metadata": {},
   "source": [
    "### Get the most recent COVID-19 Data"
   ]
  },
  {
   "cell_type": "code",
   "execution_count": 3,
   "metadata": {},
   "outputs": [],
   "source": [
    "from datetime import date, timedelta\n",
    "head_url = 'https://raw.githubusercontent.com/CSSEGISandData/COVID-19/master/csse_covid_19_data/csse_covid_19_daily_reports/'\n",
    "\n",
    "# Check the past 5 days for the most recent data\n",
    "for i in range(5):\n",
    "    day = date.today() - timedelta(days=i)\n",
    "    url = head_url + day.strftime(\"%m-%d-%Y\") + \".csv\"\n",
    "    try:\n",
    "        df_daily_cases = pd.read_csv(url)\n",
    "        break\n",
    "    except:\n",
    "        pass\n",
    "    "
   ]
  },
  {
   "cell_type": "markdown",
   "metadata": {},
   "source": [
    "### Merge COVID-19 Data and County level data"
   ]
  },
  {
   "cell_type": "code",
   "execution_count": 4,
   "metadata": {},
   "outputs": [],
   "source": [
    "# Only look at us cases\n",
    "df_us_daily_cases = df_daily_cases[df_daily_cases['Country_Region']=='US'].copy()\n",
    "\n",
    "# rename columns for convenience\n",
    "df_us_daily_cases.rename(columns={'Admin2': 'county', 'Province_State': 'state', 'FIPS': 'fips', 'Deaths': 'deaths', 'Confirmed': 'cases'}, inplace=True)\n",
    "\n",
    "# make all countries start with their first death\n",
    "df_us_daily_cases = df_us_daily_cases[df_us_daily_cases['deaths']!=0]\n",
    "\n",
    "# average polution particulates\n",
    "avg_pm25 = df_pm.groupby(\"fips\").pm25.agg(\"mean\")\n",
    "\n",
    "maxDeaths = df_us_daily_cases.groupby(['county', 'state', 'fips']).deaths.agg('max')  # get cumulative number of deaths\n",
    "pop = df_health_rank.groupby(['county', 'state', 'fips']).population_2.agg('max')  # total population\n",
    "probDeath = (np.log(maxDeaths / pop)).to_frame().reset_index().rename(columns={0:'prDeath'})\n",
    "\n",
    "df = pd.merge(probDeath, df_health_rank, how='left', left_on=['county', 'state', 'fips'], right_on = ['county', 'state', 'fips'])\n",
    "df = pd.merge(df, df_esri.drop(['state'], axis=1), how='left', left_on=['county', 'fips'], right_on=['county', 'fips'])\n",
    "df = pd.merge(df, avg_pm25, how='left', left_on=['fips'], right_on=['fips'])\n",
    "\n",
    "# population per square mile\n",
    "df['pop_density']=df['population_2'] / df['area_sqmi']\n",
    "\n",
    "# raw number indicators\n",
    "rawnum = [c for c in df.columns if 'num_' in c]\n",
    "\n",
    "# convert raw numbers to incidence levels\n",
    "df[[r+\"_per_100k\" for r in rawnum]] = df[rawnum].div(df['population_2'], axis=0) * 100000\n",
    "df.drop(rawnum, axis=1, inplace=True)\n",
    "\n",
    "# drop 95% confidence intervals \n",
    "drop = [c for c in df.columns if '95' in c] + ['population']\n",
    "df.drop(drop, axis=1, inplace=True)\n",
    "\n",
    "# remove raw counts in favor of percentages\n",
    "drop = [c for c in df.columns if c[:2] == 'e_' or c[:2] == 'm_']\n",
    "df.drop(drop, axis=1, inplace=True)"
   ]
  },
  {
   "cell_type": "code",
   "execution_count": 5,
   "metadata": {},
   "outputs": [],
   "source": [
    "# drop ID type columns\n",
    "drop = ['county', 'state', 'st_abbr', 'st', 'objectid']\n",
    "df.drop(drop, axis=1, inplace=True)"
   ]
  },
  {
   "cell_type": "markdown",
   "metadata": {},
   "source": [
    "### Run COVID-19 Explainable AI to identify counties with unusually high / low COVID-19 Deaths per 100K"
   ]
  },
  {
   "cell_type": "markdown",
   "metadata": {},
   "source": [
    "#### See https://svi.cdc.gov/Documents/Data/2014_SVI_Data/SVI2014Documentation.pdf for the social vulnerability data dictionary"
   ]
  },
  {
   "cell_type": "code",
   "execution_count": 6,
   "metadata": {},
   "outputs": [
    {
     "data": {
      "application/vnd.jupyter.widget-view+json": {
       "model_id": "c4dd48f61ad54ac59160ad0f9560a075",
       "version_major": 2,
       "version_minor": 0
      },
      "text/plain": [
       "USCountyWidget(county_value={45001: 0, 22001: 11.255828911400545, 51001: 0, 16001: 1.9150321512620045, 19001: …"
      ]
     },
     "metadata": {},
     "output_type": "display_data"
    }
   ],
   "source": [
    "usminer = pm.USCountyMiner(df, dependent='prDeath', es_thresh=0.7, fips='fips')\n",
    "usminer.render()"
   ]
  },
  {
   "cell_type": "code",
   "execution_count": null,
   "metadata": {},
   "outputs": [],
   "source": []
  }
 ],
 "metadata": {
  "kernelspec": {
   "display_name": "Python 3",
   "language": "python",
   "name": "python3"
  },
  "language_info": {
   "codemirror_mode": {
    "name": "ipython",
    "version": 3
   },
   "file_extension": ".py",
   "mimetype": "text/x-python",
   "name": "python",
   "nbconvert_exporter": "python",
   "pygments_lexer": "ipython3",
   "version": "3.7.5"
  }
 },
 "nbformat": 4,
 "nbformat_minor": 4
}
