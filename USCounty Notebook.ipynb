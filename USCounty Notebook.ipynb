{
 "cells": [
  {
   "cell_type": "code",
   "execution_count": 8,
   "metadata": {},
   "outputs": [],
   "source": [
    "import numpy as np\n",
    "import pandas as pd\n",
    "import os\n",
    "from covid_data import load_covid_data\n",
    "import data_context_map.pattern_miner as pm"
   ]
  },
  {
   "cell_type": "markdown",
   "metadata": {},
   "source": [
    "### Run COVID-19 Explainable AI to identify counties with unusually high / low COVID-19 Deaths per 100K"
   ]
  },
  {
   "cell_type": "markdown",
   "metadata": {},
   "source": [
    "#### See https://svi.cdc.gov/Documents/Data/2014_SVI_Data/SVI2014Documentation.pdf for the social vulnerability data dictionary"
   ]
  },
  {
   "cell_type": "code",
   "execution_count": 9,
   "metadata": {},
   "outputs": [
    {
     "name": "stdout",
     "output_type": "stream",
     "text": [
      "--2020-08-18 23:47:14--  http://ptc-static-file-service.jhub:8080/covid_19_data.zip\n",
      "Resolving ptc-static-file-service.jhub (ptc-static-file-service.jhub)... 10.109.81.218\n",
      "Connecting to ptc-static-file-service.jhub (ptc-static-file-service.jhub)|10.109.81.218|:8080... connected.\n",
      "HTTP request sent, awaiting response... 200 OK\n",
      "Length: 14390119 (14M) [application/zip]\n",
      "Saving to: ‘covid_19_data.zip’\n",
      "\n",
      "covid_19_data.zip   100%[===================>]  13.72M  --.-KB/s    in 0.05s   \n",
      "\n",
      "2020-08-18 23:47:14 (282 MB/s) - ‘covid_19_data.zip’ saved [14390119/14390119]\n",
      "\n",
      "Archive:  covid_19_data.zip\n",
      "  inflating: Covid-19Notebook_Data/cdcs-social-vulnerability-index-svi-2016-overall-svi-county-level.csv  \n",
      "  inflating: Covid-19Notebook_Data/county_pm25.csv  \n",
      "  inflating: Covid-19Notebook_Data/us-county-health-rankings-2020.csv  \n"
     ]
    }
   ],
   "source": [
    "!wget -N http://ptc-static-file-service.jhub:8080/covid_19_data.zip && unzip -o covid_19_data.zip && rm covid_19_data.zip"
   ]
  },
  {
   "cell_type": "code",
   "execution_count": 10,
   "metadata": {},
   "outputs": [],
   "source": [
    "path = os.getcwd()+'/Covid-19Notebook_Data/'\n",
    "df_health_rank = pd.read_csv(path+'us-county-health-rankings-2020.csv')\n",
    "df_pm = pd.read_csv(path+'county_pm25.csv')\n",
    "df_esri = pd.read_csv(path+'cdcs-social-vulnerability-index-svi-2016-overall-svi-county-level.csv')"
   ]
  },
  {
   "cell_type": "code",
   "execution_count": 11,
   "metadata": {},
   "outputs": [],
   "source": [
    "from datetime import date, timedelta\n",
    "head_url = 'https://raw.githubusercontent.com/CSSEGISandData/COVID-19/master/csse_covid_19_data/csse_covid_19_daily_reports/'\n",
    "\n",
    "# Check the past 5 days for the most recent data\n",
    "for i in range(5):\n",
    "    day = date.today() - timedelta(days=i)\n",
    "    url = head_url + day.strftime(\"%m-%d-%Y\") + \".csv\"\n",
    "    try:\n",
    "        df_daily_cases = pd.read_csv(url)\n",
    "        break\n",
    "    except:\n",
    "        pass\n",
    "    "
   ]
  },
  {
   "cell_type": "code",
   "execution_count": 12,
   "metadata": {},
   "outputs": [],
   "source": [
    "# Only look at us cases\n",
    "df_us_daily_cases = df_daily_cases[df_daily_cases['Country_Region']=='US'].copy()\n",
    "\n",
    "# rename columns for convenience\n",
    "df_us_daily_cases.rename(columns={'Admin2': 'county', 'Province_State': 'state', 'FIPS': 'fips', 'Deaths': 'deaths', 'Confirmed': 'cases'}, inplace=True)\n",
    "\n",
    "# make all countries start with their first death\n",
    "df_us_daily_cases = df_us_daily_cases[df_us_daily_cases['deaths']!=0]\n",
    "\n",
    "# average polution particulates\n",
    "avg_pm25 = df_pm.groupby(\"fips\").pm25.agg(\"mean\")\n",
    "\n",
    "maxDeaths = df_us_daily_cases.groupby(['county', 'state', 'fips']).deaths.agg('max')  # get cumulative number of deaths\n",
    "pop = df_health_rank.groupby(['county', 'state', 'fips']).population_2.agg('max')  # total population\n",
    "probDeath = (np.log(maxDeaths / pop)).to_frame().reset_index().rename(columns={0:'prDeath'})\n",
    "\n",
    "df = pd.merge(probDeath, df_health_rank, how='left', left_on=['county', 'state', 'fips'], right_on = ['county', 'state', 'fips'])\n",
    "df = pd.merge(df, df_esri.drop(['state'], axis=1), how='left', left_on=['county', 'fips'], right_on=['county', 'fips'])\n",
    "df = pd.merge(df, avg_pm25, how='left', left_on=['fips'], right_on=['fips'])\n",
    "\n",
    "# population per square mile\n",
    "df['pop_density']=df['population_2'] / df['area_sqmi']\n",
    "\n",
    "# raw number indicators\n",
    "rawnum = [c for c in df.columns if 'num_' in c]\n",
    "\n",
    "# convert raw numbers to incidence levels\n",
    "df[[r+\"_per_100k\" for r in rawnum]] = df[rawnum].div(df['population_2'], axis=0) * 100000\n",
    "df.drop(rawnum, axis=1, inplace=True)\n",
    "\n",
    "# drop 95% confidence intervals \n",
    "drop = [c for c in df.columns if '95' in c] + ['population']\n",
    "df.drop(drop, axis=1, inplace=True)\n",
    "\n",
    "# remove raw counts in favor of percentages\n",
    "drop = [c for c in df.columns if c[:2] == 'e_' or c[:2] == 'm_'] + ['state', 'st_abbr', 'st']\n",
    "\n",
    "df.drop(drop, axis=1, inplace=True)"
   ]
  },
  {
   "cell_type": "markdown",
   "metadata": {},
   "source": [
    "### Multi-variate Pattern Mining"
   ]
  },
  {
   "cell_type": "code",
   "execution_count": 13,
   "metadata": {},
   "outputs": [
    {
     "data": {
      "application/vnd.jupyter.widget-view+json": {
       "model_id": "7d2191aab2f2475294f3d03a5bac6611",
       "version_major": 2,
       "version_minor": 0
      },
      "text/plain": [
       "Output()"
      ]
     },
     "metadata": {},
     "output_type": "display_data"
    },
    {
     "data": {
      "application/vnd.jupyter.widget-view+json": {
       "model_id": "05eb8ba2f72a4cb68760d74f18dd8d04",
       "version_major": 2,
       "version_minor": 0
      },
      "text/plain": [
       "Output()"
      ]
     },
     "metadata": {},
     "output_type": "display_data"
    },
    {
     "data": {
      "text/html": [
       "\n",
       "            <style>\n",
       "               .jupyter-widgets-output-area .output_scroll {\n",
       "                    height: unset !important;\n",
       "                    border-radius: unset !important;\n",
       "                    -webkit-box-shadow: unset !important;\n",
       "                    box-shadow: unset !important;\n",
       "                }\n",
       "                .jupyter-widgets-output-area  {\n",
       "                    height: auto !important;\n",
       "                }\n",
       "            </style>\n",
       "            "
      ],
      "text/plain": [
       "<IPython.core.display.HTML object>"
      ]
     },
     "metadata": {},
     "output_type": "display_data"
    }
   ],
   "source": [
    "out = pm.DataContextMap(df.drop(['fips'], axis=1), es_thresh=0.75, minsup=0.03, dependent='prDeath', holdout=2, max_pattern=300, show_causal=True, verbose=0)\n",
    "out.render()"
   ]
  },
  {
   "cell_type": "markdown",
   "metadata": {},
   "source": [
    "### Correlation Mining"
   ]
  },
  {
   "cell_type": "code",
   "execution_count": 14,
   "metadata": {},
   "outputs": [
    {
     "data": {
      "application/vnd.jupyter.widget-view+json": {
       "model_id": "fef89d3e46754a9490316230347cd85d",
       "version_major": 2,
       "version_minor": 0
      },
      "text/plain": [
       "CorrelationTableWidget(data=[{'Variable 1': 'years_of_potential_life_lost_rate', 'Variable 2': 'prDeath', 'Pea…"
      ]
     },
     "metadata": {},
     "output_type": "display_data"
    }
   ],
   "source": [
    "ctable = pm.CorrelationTable(df.drop(['fips'], axis=1), 'prDeath', es_thresh=0.6, minsup=0.1, max_depth=3, max_pattern=1000, holdout=2, verbose=0)\n",
    "ctable.render()"
   ]
  },
  {
   "cell_type": "markdown",
   "metadata": {},
   "source": [
    "### U.S. County Map View"
   ]
  },
  {
   "cell_type": "code",
   "execution_count": 15,
   "metadata": {},
   "outputs": [
    {
     "data": {
      "application/vnd.jupyter.widget-view+json": {
       "model_id": "7f32c6efc75d40c3841f9e606edefbb3",
       "version_major": 2,
       "version_minor": 0
      },
      "text/plain": [
       "USCountyWidget(county_value={45001: 32.598508618230724, 22001: 144.71780028943556, 51001: 52.44970998395657, 1…"
      ]
     },
     "metadata": {},
     "output_type": "display_data"
    }
   ],
   "source": [
    "usminer = pm.USCountyMiner(df, dependent='prDeath', es_thresh=0.7, minsup=0.05, max_depth=3, max_pattern=300, fips='fips')\n",
    "usminer.render()"
   ]
  },
  {
   "cell_type": "code",
   "execution_count": null,
   "metadata": {},
   "outputs": [],
   "source": []
  }
 ],
 "metadata": {
  "kernelspec": {
   "display_name": "Python 3",
   "language": "python",
   "name": "python3"
  },
  "language_info": {
   "codemirror_mode": {
    "name": "ipython",
    "version": 3
   },
   "file_extension": ".py",
   "mimetype": "text/x-python",
   "name": "python",
   "nbconvert_exporter": "python",
   "pygments_lexer": "ipython3",
   "version": "3.7.3"
  }
 },
 "nbformat": 4,
 "nbformat_minor": 4
}
